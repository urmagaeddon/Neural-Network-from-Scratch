{
  "nbformat": 4,
  "nbformat_minor": 0,
  "metadata": {
    "colab": {
      "provenance": []
    },
    "kernelspec": {
      "name": "python3",
      "display_name": "Python 3"
    },
    "language_info": {
      "name": "python"
    }
  },
  "cells": [
    {
      "cell_type": "code",
      "execution_count": 13,
      "metadata": {
        "id": "r985pIPQNxwE",
        "collapsed": true
      },
      "outputs": [],
      "source": [
        "import numpy as np\n",
        "import pandas as pd\n",
        "from matplotlib import pyplot as plt\n",
        "\n",
        "data = pd.read_csv('/content/train.csv')"
      ]
    },
    {
      "cell_type": "code",
      "source": [
        "data = np.array(data)\n",
        "m, n = data.shape\n",
        "np.random.shuffle(data) # shuffle before splitting into dev and training sets\n",
        "\n",
        "data_dev = data[0:1000].T\n",
        "Y_dev = data_dev[0].astype(int)\n",
        "X_dev = data_dev[1:n]\n",
        "X_dev = X_dev / 255.\n",
        "\n",
        "data_train = data[1000:m].T\n",
        "Y_train = data_train[0].astype(int)\n",
        "X_train = data_train[1:n]\n",
        "X_train = X_train / 255.\n",
        "_,m_train = X_train.shape"
      ],
      "metadata": {
        "id": "GVg9KYLl9o3y"
      },
      "execution_count": 14,
      "outputs": []
    },
    {
      "cell_type": "code",
      "source": [
        "Y_train"
      ],
      "metadata": {
        "colab": {
          "base_uri": "https://localhost:8080/"
        },
        "id": "kJMMm8Ql9o7h",
        "outputId": "73977765-e9ce-40da-80ad-04bc0bb672ef"
      },
      "execution_count": 15,
      "outputs": [
        {
          "output_type": "execute_result",
          "data": {
            "text/plain": [
              "array([3, 9, 6, ..., 0, 1, 2])"
            ]
          },
          "metadata": {},
          "execution_count": 15
        }
      ]
    },
    {
      "cell_type": "code",
      "source": [
        "def init_params():\n",
        "    W1 = np.random.rand(10, 784) - 0.5\n",
        "    b1 = np.random.rand(10, 1) - 0.5\n",
        "    W2 = np.random.rand(10, 10) - 0.5\n",
        "    b2 = np.random.rand(10, 1) - 0.5\n",
        "    return W1, b1, W2, b2\n",
        "\n",
        "def ReLU(Z):\n",
        "    return np.maximum(Z, 0)\n",
        "\n",
        "def softmax(Z):\n",
        "    A = np.exp(Z) / sum(np.exp(Z))\n",
        "    return A\n",
        "\n",
        "def forward_prop(W1, b1, W2, b2, X):\n",
        "    Z1 = W1.dot(X) + b1\n",
        "    A1 = ReLU(Z1)\n",
        "    Z2 = W2.dot(A1) + b2\n",
        "    A2 = softmax(Z2)\n",
        "    return Z1, A1, Z2, A2\n",
        "\n",
        "def ReLU_deriv(Z):\n",
        "    return Z > 0\n",
        "\n",
        "def one_hot(Y):\n",
        "    one_hot_Y = np.zeros((Y.size, Y.max() + 1))\n",
        "    one_hot_Y[np.arange(Y.size), Y] = 1\n",
        "    one_hot_Y = one_hot_Y.T\n",
        "    return one_hot_Y\n",
        "\n",
        "def backward_prop(Z1, A1, Z2, A2, W1, W2, X, Y):\n",
        "    one_hot_Y = one_hot(Y)\n",
        "    dZ2 = A2 - one_hot_Y\n",
        "    dW2 = 1 / m * dZ2.dot(A1.T)\n",
        "    db2 = 1 / m * np.sum(dZ2)\n",
        "    dZ1 = W2.T.dot(dZ2) * ReLU_deriv(Z1)\n",
        "    dW1 = 1 / m * dZ1.dot(X.T)\n",
        "    db1 = 1 / m * np.sum(dZ1)\n",
        "    return dW1, db1, dW2, db2\n",
        "\n",
        "def update_params(W1, b1, W2, b2, dW1, db1, dW2, db2, alpha):\n",
        "    W1 = W1 - alpha * dW1\n",
        "    b1 = b1 - alpha * db1\n",
        "    W2 = W2 - alpha * dW2\n",
        "    b2 = b2 - alpha * db2\n",
        "    return W1, b1, W2, b2"
      ],
      "metadata": {
        "id": "iafgUPzy9o-T"
      },
      "execution_count": 16,
      "outputs": []
    },
    {
      "cell_type": "code",
      "source": [
        "def get_predictions(A2):\n",
        "    return np.argmax(A2, 0)\n",
        "\n",
        "def get_accuracy(predictions, Y):\n",
        "    print(predictions, Y)\n",
        "    return np.sum(predictions == Y) / Y.size\n",
        "\n",
        "def gradient_descent(X, Y, alpha, iterations):\n",
        "    W1, b1, W2, b2 = init_params()\n",
        "    for i in range(iterations):\n",
        "        Z1, A1, Z2, A2 = forward_prop(W1, b1, W2, b2, X)\n",
        "        dW1, db1, dW2, db2 = backward_prop(Z1, A1, Z2, A2, W1, W2, X, Y)\n",
        "        W1, b1, W2, b2 = update_params(W1, b1, W2, b2, dW1, db1, dW2, db2, alpha)\n",
        "        if i % 10 == 0:\n",
        "            print(\"Iteration: \", i)\n",
        "            predictions = get_predictions(A2)\n",
        "            print(get_accuracy(predictions, Y))\n",
        "    return W1, b1, W2, b2"
      ],
      "metadata": {
        "id": "Ci36OtTW9pBM"
      },
      "execution_count": 17,
      "outputs": []
    },
    {
      "cell_type": "code",
      "source": [
        "W1, b1, W2, b2 = gradient_descent(X_train, Y_train, 0.10, 500)"
      ],
      "metadata": {
        "colab": {
          "base_uri": "https://localhost:8080/"
        },
        "id": "ueoW6Jl99pEJ",
        "outputId": "c3e39794-3053-4684-8d5b-b3b38f6136d8"
      },
      "execution_count": 18,
      "outputs": [
        {
          "output_type": "stream",
          "name": "stdout",
          "text": [
            "Iteration:  0\n",
            "[0 2 0 ... 0 9 2] [3 9 6 ... 0 1 2]\n",
            "0.08207317073170732\n",
            "Iteration:  10\n",
            "[8 2 0 ... 0 9 9] [3 9 6 ... 0 1 2]\n",
            "0.17402439024390243\n",
            "Iteration:  20\n",
            "[8 2 0 ... 0 1 8] [3 9 6 ... 0 1 2]\n",
            "0.28304878048780485\n",
            "Iteration:  30\n",
            "[8 2 0 ... 0 1 8] [3 9 6 ... 0 1 2]\n",
            "0.3536829268292683\n",
            "Iteration:  40\n",
            "[8 7 0 ... 0 1 8] [3 9 6 ... 0 1 2]\n",
            "0.4126341463414634\n",
            "Iteration:  50\n",
            "[8 7 0 ... 0 8 8] [3 9 6 ... 0 1 2]\n",
            "0.47\n",
            "Iteration:  60\n",
            "[3 7 0 ... 0 8 8] [3 9 6 ... 0 1 2]\n",
            "0.521390243902439\n",
            "Iteration:  70\n",
            "[3 7 0 ... 0 8 2] [3 9 6 ... 0 1 2]\n",
            "0.5641951219512195\n",
            "Iteration:  80\n",
            "[3 7 6 ... 0 8 2] [3 9 6 ... 0 1 2]\n",
            "0.5974390243902439\n",
            "Iteration:  90\n",
            "[3 7 6 ... 0 8 2] [3 9 6 ... 0 1 2]\n",
            "0.6279756097560976\n",
            "Iteration:  100\n",
            "[3 7 6 ... 0 8 2] [3 9 6 ... 0 1 2]\n",
            "0.6540487804878049\n",
            "Iteration:  110\n",
            "[3 7 6 ... 0 1 2] [3 9 6 ... 0 1 2]\n",
            "0.6746585365853659\n",
            "Iteration:  120\n",
            "[3 7 6 ... 0 1 2] [3 9 6 ... 0 1 2]\n",
            "0.6928780487804878\n",
            "Iteration:  130\n",
            "[3 7 6 ... 0 1 2] [3 9 6 ... 0 1 2]\n",
            "0.7086585365853658\n",
            "Iteration:  140\n",
            "[3 7 6 ... 0 1 2] [3 9 6 ... 0 1 2]\n",
            "0.7222195121951219\n",
            "Iteration:  150\n",
            "[3 7 6 ... 0 1 2] [3 9 6 ... 0 1 2]\n",
            "0.7333170731707317\n",
            "Iteration:  160\n",
            "[3 7 6 ... 0 1 2] [3 9 6 ... 0 1 2]\n",
            "0.7444634146341463\n",
            "Iteration:  170\n",
            "[3 7 6 ... 0 1 2] [3 9 6 ... 0 1 2]\n",
            "0.7538048780487805\n",
            "Iteration:  180\n",
            "[3 7 6 ... 0 1 2] [3 9 6 ... 0 1 2]\n",
            "0.7624146341463415\n",
            "Iteration:  190\n",
            "[3 7 6 ... 0 1 2] [3 9 6 ... 0 1 2]\n",
            "0.7701951219512195\n",
            "Iteration:  200\n",
            "[3 7 6 ... 0 1 2] [3 9 6 ... 0 1 2]\n",
            "0.7776585365853659\n",
            "Iteration:  210\n",
            "[3 7 6 ... 0 1 2] [3 9 6 ... 0 1 2]\n",
            "0.7834634146341464\n",
            "Iteration:  220\n",
            "[3 7 6 ... 0 1 2] [3 9 6 ... 0 1 2]\n",
            "0.7889756097560976\n",
            "Iteration:  230\n",
            "[3 7 6 ... 0 1 2] [3 9 6 ... 0 1 2]\n",
            "0.7939268292682927\n",
            "Iteration:  240\n",
            "[3 7 6 ... 0 1 2] [3 9 6 ... 0 1 2]\n",
            "0.7983902439024391\n",
            "Iteration:  250\n",
            "[3 7 6 ... 0 1 2] [3 9 6 ... 0 1 2]\n",
            "0.8027804878048781\n",
            "Iteration:  260\n",
            "[3 7 6 ... 0 1 2] [3 9 6 ... 0 1 2]\n",
            "0.806829268292683\n",
            "Iteration:  270\n",
            "[3 7 6 ... 0 1 2] [3 9 6 ... 0 1 2]\n",
            "0.8107560975609757\n",
            "Iteration:  280\n",
            "[3 9 6 ... 0 1 2] [3 9 6 ... 0 1 2]\n",
            "0.8141951219512195\n",
            "Iteration:  290\n",
            "[3 9 6 ... 0 1 2] [3 9 6 ... 0 1 2]\n",
            "0.8171219512195121\n",
            "Iteration:  300\n",
            "[3 9 6 ... 0 1 2] [3 9 6 ... 0 1 2]\n",
            "0.820170731707317\n",
            "Iteration:  310\n",
            "[3 9 6 ... 0 1 2] [3 9 6 ... 0 1 2]\n",
            "0.8227073170731707\n",
            "Iteration:  320\n",
            "[3 9 6 ... 0 1 2] [3 9 6 ... 0 1 2]\n",
            "0.8247560975609756\n",
            "Iteration:  330\n",
            "[3 9 6 ... 0 1 2] [3 9 6 ... 0 1 2]\n",
            "0.8274390243902439\n",
            "Iteration:  340\n",
            "[3 9 6 ... 0 1 2] [3 9 6 ... 0 1 2]\n",
            "0.8295365853658536\n",
            "Iteration:  350\n",
            "[3 9 6 ... 0 1 2] [3 9 6 ... 0 1 2]\n",
            "0.8312682926829268\n",
            "Iteration:  360\n",
            "[3 9 6 ... 0 1 2] [3 9 6 ... 0 1 2]\n",
            "0.833390243902439\n",
            "Iteration:  370\n",
            "[3 9 6 ... 0 1 2] [3 9 6 ... 0 1 2]\n",
            "0.835170731707317\n",
            "Iteration:  380\n",
            "[3 9 6 ... 0 1 2] [3 9 6 ... 0 1 2]\n",
            "0.8368048780487805\n",
            "Iteration:  390\n",
            "[3 9 6 ... 0 1 2] [3 9 6 ... 0 1 2]\n",
            "0.8381951219512195\n",
            "Iteration:  400\n",
            "[3 9 6 ... 0 1 2] [3 9 6 ... 0 1 2]\n",
            "0.8400243902439024\n",
            "Iteration:  410\n",
            "[3 9 6 ... 0 1 2] [3 9 6 ... 0 1 2]\n",
            "0.8414390243902439\n",
            "Iteration:  420\n",
            "[3 9 6 ... 0 1 2] [3 9 6 ... 0 1 2]\n",
            "0.8428048780487805\n",
            "Iteration:  430\n",
            "[3 9 6 ... 0 1 2] [3 9 6 ... 0 1 2]\n",
            "0.8437560975609756\n",
            "Iteration:  440\n",
            "[3 9 6 ... 0 1 2] [3 9 6 ... 0 1 2]\n",
            "0.8450243902439024\n",
            "Iteration:  450\n",
            "[3 9 6 ... 0 1 2] [3 9 6 ... 0 1 2]\n",
            "0.8462682926829268\n",
            "Iteration:  460\n",
            "[3 9 6 ... 0 1 2] [3 9 6 ... 0 1 2]\n",
            "0.847390243902439\n",
            "Iteration:  470\n",
            "[3 9 6 ... 0 1 2] [3 9 6 ... 0 1 2]\n",
            "0.8485121951219512\n",
            "Iteration:  480\n",
            "[3 9 6 ... 0 1 2] [3 9 6 ... 0 1 2]\n",
            "0.8496341463414634\n",
            "Iteration:  490\n",
            "[3 9 6 ... 0 1 2] [3 9 6 ... 0 1 2]\n",
            "0.8506585365853658\n"
          ]
        }
      ]
    },
    {
      "cell_type": "code",
      "source": [
        "def make_predictions(X, W1, b1, W2, b2):\n",
        "    _, _, _, A2 = forward_prop(W1, b1, W2, b2, X)\n",
        "    predictions = get_predictions(A2)\n",
        "    return predictions\n",
        "\n",
        "def test_prediction(index, W1, b1, W2, b2):\n",
        "    current_image = X_train[:, index, None]\n",
        "    prediction = make_predictions(X_train[:, index, None], W1, b1, W2, b2)\n",
        "    label = Y_train[index]\n",
        "    print(\"Prediction: \", prediction)\n",
        "    print(\"Label: \", label)\n",
        "\n",
        "    current_image = current_image.reshape((28, 28)) * 255\n",
        "    plt.gray()\n",
        "    plt.imshow(current_image, interpolation='nearest')\n",
        "    plt.show()"
      ],
      "metadata": {
        "id": "g13jOaY-94P6"
      },
      "execution_count": 19,
      "outputs": []
    },
    {
      "cell_type": "code",
      "source": [
        "test_prediction(0, W1, b1, W2, b2)\n",
        "test_prediction(1, W1, b1, W2, b2)\n",
        "test_prediction(2, W1, b1, W2, b2)\n",
        "test_prediction(3, W1, b1, W2, b2)"
      ],
      "metadata": {
        "colab": {
          "base_uri": "https://localhost:8080/",
          "height": 1000
        },
        "id": "YwukE6hK94Mm",
        "outputId": "258c13a5-6443-474a-e681-2b1a25a8f47d"
      },
      "execution_count": 20,
      "outputs": [
        {
          "output_type": "stream",
          "name": "stdout",
          "text": [
            "Prediction:  [3]\n",
            "Label:  3\n"
          ]
        },
        {
          "output_type": "display_data",
          "data": {
            "text/plain": [
              "<Figure size 640x480 with 1 Axes>"
            ],
            "image/png": "[encoded data removed]"
          },
          "metadata": {}
        },
        {
          "output_type": "stream",
          "name": "stdout",
          "text": [
            "Prediction:  [9]\n",
            "Label:  9\n"
          ]
        },
        {
          "output_type": "display_data",
          "data": {
            "text/plain": [
              "<Figure size 640x480 with 1 Axes>"
            ],
            "image/png": "[encoded data removed]"
          },
          "metadata": {}
        },
        {
          "output_type": "stream",
          "name": "stdout",
          "text": [
            "Prediction:  [6]\n",
            "Label:  6\n"
          ]
        },
        {
          "output_type": "display_data",
          "data": {
            "text/plain": [
              "<Figure size 640x480 with 1 Axes>"
            ],
            "image/png": "[encoded data removed]"
          },
          "metadata": {}
        },
        {
          "output_type": "stream",
          "name": "stdout",
          "text": [
            "Prediction:  [4]\n",
            "Label:  2\n"
          ]
        },
        {
          "output_type": "display_data",
          "data": {
            "text/plain": [
              "<Figure size 640x480 with 1 Axes>"
            ],
            "image/png": "[encoded data removed]"
          },
          "metadata": {}
        }
      ]
    },
    {
      "cell_type": "code",
      "source": [
        "dev_predictions = make_predictions(X_dev, W1, b1, W2, b2)\n",
        "get_accuracy(dev_predictions, Y_dev)"
      ],
      "metadata": {
        "colab": {
          "base_uri": "https://localhost:8080/"
        },
        "id": "67c99u9094JT",
        "outputId": "5631808f-b527-4e89-e3c7-adb81090f8ec"
      },
      "execution_count": 21,
      "outputs": [
        {
          "output_type": "stream",
          "name": "stdout",
          "text": [
            "[8 1 7 9 9 2 2 0 4 1 6 2 9 4 4 1 6 6 0 4 1 2 4 8 9 7 8 0 2 7 7 4 9 2 6 0 5\n",
            " 2 6 4 7 2 8 3 6 0 0 1 1 1 4 6 1 7 4 7 5 1 5 5 5 8 7 2 4 8 7 6 2 5 1 1 7 5\n",
            " 3 4 1 0 6 8 0 8 9 5 1 2 3 7 8 2 3 3 9 4 5 7 1 4 4 7 2 4 2 9 0 0 8 0 2 5 5\n",
            " 3 7 8 8 5 4 5 3 7 3 1 0 3 1 2 5 8 7 6 1 7 9 0 6 5 3 5 0 1 9 4 1 7 3 4 2 3\n",
            " 9 4 9 6 2 7 8 5 1 9 5 7 1 4 1 0 8 6 7 6 3 9 1 4 3 6 6 6 6 4 2 7 1 4 6 0 4\n",
            " 2 8 5 1 3 0 9 5 1 1 3 4 3 7 1 1 3 6 7 9 2 4 3 5 9 6 8 3 3 3 2 5 3 5 4 9 3\n",
            " 6 9 3 4 6 1 8 0 3 3 9 9 1 5 8 1 9 1 3 7 6 4 4 3 6 1 7 4 3 3 6 9 1 6 4 8 1\n",
            " 8 7 8 6 9 3 8 9 2 0 4 9 2 9 9 1 4 8 6 0 6 1 8 5 3 0 0 0 3 9 6 5 7 6 4 8 9\n",
            " 6 9 1 4 1 4 9 6 1 9 7 2 2 0 2 8 4 4 2 4 3 9 7 4 6 8 0 4 1 9 3 5 7 3 4 0 4\n",
            " 2 4 4 8 8 9 6 6 9 4 3 4 7 7 1 5 5 9 1 2 0 7 0 5 0 6 2 6 2 9 0 3 2 5 9 3 4\n",
            " 3 2 2 9 0 6 3 9 0 2 3 3 5 9 1 0 0 7 1 5 9 2 1 0 3 5 6 4 1 1 6 0 1 3 2 3 0\n",
            " 8 4 3 4 1 4 2 0 9 9 1 6 1 8 4 4 0 1 5 0 3 8 2 9 5 8 1 0 4 3 8 0 6 4 2 7 1\n",
            " 5 7 5 2 7 5 7 4 7 3 1 3 9 2 4 9 2 4 3 9 8 4 3 8 6 5 3 8 5 8 7 6 0 6 4 8 2\n",
            " 9 2 0 1 5 7 3 0 5 9 6 1 0 9 1 9 1 5 9 6 2 8 8 8 3 1 1 1 1 2 7 3 3 6 2 9 5\n",
            " 5 8 0 0 9 9 4 7 1 4 1 9 6 7 0 1 3 4 4 7 5 8 2 6 5 1 6 7 0 3 0 1 7 2 1 4 4\n",
            " 3 2 4 2 3 1 3 6 3 1 3 3 7 5 9 4 8 1 2 2 7 9 0 1 4 6 4 2 2 9 1 8 3 5 1 2 8\n",
            " 4 5 2 6 0 4 3 1 6 8 8 1 1 2 6 2 5 1 1 9 6 5 1 5 8 4 6 2 7 0 9 9 4 4 6 9 9\n",
            " 2 4 1 3 9 9 7 6 2 4 9 1 4 5 9 8 4 2 6 6 0 5 6 4 3 0 7 2 8 6 6 3 2 8 6 0 1\n",
            " 3 4 2 1 4 1 5 2 7 4 9 2 8 5 2 1 7 5 1 6 1 0 8 3 5 2 7 0 0 9 3 4 1 3 3 1 8\n",
            " 7 7 2 5 6 4 6 2 3 8 1 8 9 7 7 9 9 0 4 5 5 8 9 7 1 7 8 2 3 3 0 9 3 2 3 4 3\n",
            " 2 1 2 3 8 7 4 2 9 5 2 7 0 3 7 8 7 3 5 1 7 2 1 4 5 8 3 1 6 0 9 1 2 5 7 2 9\n",
            " 4 3 6 5 7 2 1 4 2 9 3 2 1 4 4 9 7 7 5 1 5 2 7 1 9 2 9 6 3 3 8 3 3 3 4 3 2\n",
            " 3 7 8 4 7 6 9 9 4 3 7 2 3 2 3 4 9 4 8 0 6 3 0 9 6 0 1 0 8 8 0 1 1 9 8 3 9\n",
            " 4 2 2 3 7 9 7 8 7 9 4 2 6 0 7 4 0 1 5 9 5 3 1 4 2 6 0 7 5 2 1 1 1 7 5 9 2\n",
            " 7 5 8 0 9 4 0 2 7 6 1 9 5 9 3 0 2 8 3 2 5 6 4 3 0 2 7 6 2 5 7 6 4 4 9 1 3\n",
            " 8 6 4 4 0 3 3 9 7 7 3 1 0 4 7 2 9 1 1 0 9 6 1 6 2 2 2 0 6 4 1 3 5 5 5 1 9\n",
            " 9 1 3 4 0 4 2 8 5 4 5 3 6 9 3 1 9 4 2 8 1 3 7 1 8 6 5 3 6 5 8 4 7 9 6 2 4\n",
            " 4] [8 8 7 9 9 6 6 0 4 1 6 2 9 4 4 1 6 6 0 4 1 2 4 8 9 7 8 0 2 7 7 4 9 2 6 0 8\n",
            " 3 6 4 7 2 3 3 6 0 0 1 1 1 4 6 1 7 4 7 5 8 6 5 5 3 7 9 4 8 7 2 2 5 1 1 7 5\n",
            " 3 4 1 0 6 2 0 8 9 5 1 5 3 7 8 2 3 3 9 4 5 7 1 5 4 7 2 4 2 9 0 0 8 0 2 5 5\n",
            " 3 7 8 1 5 4 5 3 7 3 1 0 3 1 2 5 8 7 8 1 2 9 0 6 5 3 5 0 1 9 4 1 7 3 4 2 3\n",
            " 9 4 9 6 5 7 8 6 1 9 5 7 1 4 1 0 8 6 7 6 3 7 1 4 3 6 6 6 6 9 2 7 1 4 4 0 4\n",
            " 2 8 5 1 3 0 9 5 1 1 3 4 3 7 1 2 3 5 7 7 2 4 3 5 7 6 4 3 5 3 0 5 3 5 4 5 3\n",
            " 6 9 3 4 6 1 8 0 3 3 9 9 1 5 8 1 9 1 3 7 6 4 4 3 6 1 7 4 3 9 2 9 7 6 4 8 1\n",
            " 6 7 8 6 9 3 1 9 7 0 9 9 6 4 9 1 4 8 6 7 6 1 2 5 8 0 0 0 3 9 6 6 7 6 4 8 0\n",
            " 6 9 1 6 1 4 9 6 1 9 7 2 2 0 2 8 4 4 9 4 3 9 7 4 6 8 0 4 1 9 3 5 7 3 4 0 4\n",
            " 2 9 4 5 8 9 6 6 9 4 3 4 7 7 1 5 0 9 1 8 8 7 0 5 0 6 2 6 2 9 0 3 2 8 3 3 4\n",
            " 3 2 2 8 0 5 3 9 0 9 3 3 5 9 1 0 0 7 1 5 9 2 1 0 3 5 6 4 8 1 5 0 1 3 2 3 0\n",
            " 1 4 3 4 1 4 1 0 9 7 1 3 1 8 4 9 2 1 5 0 3 9 2 9 5 8 1 0 4 3 8 0 6 4 2 7 1\n",
            " 5 7 5 5 7 8 7 4 7 3 1 3 4 2 9 9 2 9 5 9 8 4 3 5 2 5 5 8 5 8 7 6 5 5 4 8 2\n",
            " 9 2 0 1 5 7 5 0 5 4 6 1 0 0 1 9 1 5 3 6 2 8 2 8 3 1 1 1 1 2 7 3 3 6 2 9 6\n",
            " 5 8 0 0 9 8 4 7 1 4 1 9 6 7 0 1 3 4 4 7 8 8 2 6 5 1 6 7 0 3 0 1 7 2 1 4 4\n",
            " 3 2 4 2 3 1 9 6 3 1 3 3 7 5 9 4 7 1 2 9 7 9 0 1 4 6 4 2 4 9 1 8 3 0 1 2 8\n",
            " 2 5 3 6 0 4 3 1 6 8 9 1 1 2 4 2 5 1 1 9 6 5 1 5 8 8 6 2 7 0 9 9 9 4 6 9 9\n",
            " 1 4 3 3 9 9 7 6 2 4 7 7 5 5 4 8 4 2 6 6 0 6 6 4 3 0 3 2 8 6 3 3 2 9 6 0 1\n",
            " 3 4 3 1 4 1 5 2 9 4 8 2 8 5 2 1 7 5 1 6 1 0 8 3 3 3 7 0 0 4 3 9 1 3 2 1 8\n",
            " 7 7 2 5 5 4 6 2 5 3 1 8 2 7 6 9 9 0 4 0 5 1 9 7 1 7 8 2 3 3 0 7 3 4 3 4 3\n",
            " 5 1 2 3 8 7 9 2 9 8 2 7 0 3 7 2 7 3 5 1 3 3 1 4 5 8 3 1 6 5 9 1 2 5 7 2 9\n",
            " 4 3 6 5 7 2 6 4 2 9 9 2 1 4 4 9 7 7 6 1 5 2 7 1 9 5 9 6 3 3 8 3 3 3 4 3 2\n",
            " 3 7 8 4 7 6 9 7 4 3 7 2 3 2 3 4 9 4 8 0 6 3 0 9 6 0 1 2 8 2 0 1 1 9 8 7 9\n",
            " 9 2 2 3 7 8 7 4 7 9 4 2 5 0 7 4 0 1 8 9 5 3 8 4 8 6 0 7 5 3 1 1 1 7 5 9 4\n",
            " 7 3 8 0 9 4 0 2 7 6 1 9 5 9 3 0 2 8 9 2 5 6 4 3 0 3 2 2 2 5 7 6 4 4 9 1 3\n",
            " 8 6 4 4 0 3 1 9 7 7 3 1 0 9 7 2 9 1 1 0 9 6 1 6 2 2 2 0 6 4 3 3 5 5 5 1 9\n",
            " 9 8 3 4 0 4 2 2 5 4 5 3 6 9 9 1 9 4 2 8 1 3 7 1 8 6 5 3 6 3 8 4 7 4 6 2 4\n",
            " 6]\n"
          ]
        },
        {
          "output_type": "execute_result",
          "data": {
            "text/plain": [
              "np.float64(0.84)"
            ]
          },
          "metadata": {},
          "execution_count": 21
        }
      ]
    },
    {
      "cell_type": "code",
      "source": [],
      "metadata": {
        "id": "wWUaW2WJ94A0"
      },
      "execution_count": 21,
      "outputs": []
    }
  ]
}